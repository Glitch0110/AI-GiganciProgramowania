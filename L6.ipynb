{
  "nbformat": 4,
  "nbformat_minor": 0,
  "metadata": {
    "colab": {
      "provenance": [],
      "authorship_tag": "ABX9TyNtmuIlLSKbi2sNTveuEzN+",
      "include_colab_link": true
    },
    "kernelspec": {
      "name": "python3",
      "display_name": "Python 3"
    },
    "language_info": {
      "name": "python"
    }
  },
  "cells": [
    {
      "cell_type": "markdown",
      "metadata": {
        "id": "view-in-github",
        "colab_type": "text"
      },
      "source": [
        "<a href=\"https://colab.research.google.com/github/Glitch0110/AI-GiganciProgramowania/blob/main/L6.ipynb\" target=\"_parent\"><img src=\"https://colab.research.google.com/assets/colab-badge.svg\" alt=\"Open In Colab\"/></a>"
      ]
    },
    {
      "cell_type": "code",
      "execution_count": 1,
      "metadata": {
        "colab": {
          "base_uri": "https://localhost:8080/"
        },
        "id": "BglPuAeV9LVx",
        "outputId": "9b93e6d8-f79f-435c-df08-26d1c21669a5"
      },
      "outputs": [
        {
          "output_type": "stream",
          "name": "stdout",
          "text": [
            "hello world!\n"
          ]
        }
      ],
      "source": [
        "print(\"hello world!\")"
      ]
    },
    {
      "cell_type": "code",
      "source": [
        "print(\"Test\")"
      ],
      "metadata": {
        "colab": {
          "base_uri": "https://localhost:8080/"
        },
        "id": "OuNhCIgo9w5Z",
        "outputId": "880f79d7-fbce-4292-94df-7e4d7e5ae3a6"
      },
      "execution_count": 2,
      "outputs": [
        {
          "output_type": "stream",
          "name": "stdout",
          "text": [
            "Test\n"
          ]
        }
      ]
    },
    {
      "cell_type": "code",
      "source": [
        "print(\"Kalkulator\")\n",
        "a = int(input(\"Liczba a:\"))\n",
        "b = int(input(\"Liczba b:\"))\n",
        "operacja = input(\"Dodawanie/Mnożenie/Odejmowanie/Dzielenie, D, M, O, Dz\")\n",
        "if(operacja == \"D\"):\n",
        "  print(a + b)\n",
        "elif (operacja == \"M\"):\n",
        "  print(a * b)\n",
        "elif (operacja == \"O\"):\n",
        "  print(a - b)\n",
        "elif (operacja == \"Dz\"):\n",
        "  print(a / b)\n",
        "else:\n",
        "   print(\"Error!\")"
      ],
      "metadata": {
        "colab": {
          "base_uri": "https://localhost:8080/"
        },
        "id": "r8-yg4EQ91Ik",
        "outputId": "865bbcab-6685-415a-e491-2421e8b03d8a"
      },
      "execution_count": 6,
      "outputs": [
        {
          "output_type": "stream",
          "name": "stdout",
          "text": [
            "Kalkulator\n",
            "Liczba a:4\n",
            "Liczba b:6\n",
            "Dodawanie/Mnożenie/Odejmowanie/Dzielenie, D, M, O, DzDz\n",
            "0.6666666666666666\n"
          ]
        }
      ]
    }
  ]
}